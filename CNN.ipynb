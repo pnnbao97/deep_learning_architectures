{
 "cells": [
  {
   "cell_type": "code",
   "execution_count": 34,
   "id": "fd475623-a02f-4b28-bf57-6a0bf4a80540",
   "metadata": {},
   "outputs": [],
   "source": [
    "from datasets import load_dataset"
   ]
  },
  {
   "cell_type": "code",
   "execution_count": 35,
   "id": "83b1373a-dd56-41fd-bccb-b858e68fb51f",
   "metadata": {},
   "outputs": [],
   "source": [
    "mnist = load_dataset(\"mnist\")"
   ]
  },
  {
   "cell_type": "code",
   "execution_count": 36,
   "id": "8d6410ca-ff2a-4834-903c-9688950e0dd8",
   "metadata": {},
   "outputs": [
    {
     "data": {
      "text/plain": [
       "DatasetDict({\n",
       "    train: Dataset({\n",
       "        features: ['image', 'label'],\n",
       "        num_rows: 60000\n",
       "    })\n",
       "    test: Dataset({\n",
       "        features: ['image', 'label'],\n",
       "        num_rows: 10000\n",
       "    })\n",
       "})"
      ]
     },
     "execution_count": 36,
     "metadata": {},
     "output_type": "execute_result"
    }
   ],
   "source": [
    "mnist"
   ]
  },
  {
   "cell_type": "code",
   "execution_count": 37,
   "id": "87ccb23b-c497-40d5-8e12-ee89f0352eca",
   "metadata": {},
   "outputs": [],
   "source": [
    "img = mnist[\"train\"][\"image\"][0]"
   ]
  },
  {
   "cell_type": "code",
   "execution_count": 38,
   "id": "b27aa6c0-6bdc-4197-aa67-e885bfed683d",
   "metadata": {},
   "outputs": [],
   "source": [
    "import matplotlib as mpl"
   ]
  },
  {
   "cell_type": "code",
   "execution_count": 39,
   "id": "16e949ad-654e-458d-8f3d-9de191814b18",
   "metadata": {},
   "outputs": [],
   "source": [
    "import matplotlib.pyplot as plt"
   ]
  },
  {
   "cell_type": "code",
   "execution_count": 40,
   "id": "35ebda25-50b3-4d78-8c88-6481471cd998",
   "metadata": {
    "scrolled": true
   },
   "outputs": [
    {
     "data": {
      "text/plain": [
       "<matplotlib.image.AxesImage at 0x29012d87e30>"
      ]
     },
     "execution_count": 40,
     "metadata": {},
     "output_type": "execute_result"
    },
    {
     "data": {
      "image/png": "[encoded data removed]",
      "text/plain": [
       "<Figure size 640x480 with 1 Axes>"
      ]
     },
     "metadata": {},
     "output_type": "display_data"
    }
   ],
   "source": [
    "plt.imshow(img, cmap=\"gray_r\")"
   ]
  },
  {
   "cell_type": "code",
   "execution_count": 41,
   "id": "0fd64000-b665-4c2c-bc15-abbd28e57cc8",
   "metadata": {},
   "outputs": [
    {
     "data": {
      "text/plain": [
       "5"
      ]
     },
     "execution_count": 41,
     "metadata": {},
     "output_type": "execute_result"
    }
   ],
   "source": [
    "mnist[\"train\"][\"label\"][0]"
   ]
  },
  {
   "cell_type": "markdown",
   "id": "4aee7a25-9f84-42c7-ac36-acb2ca750c3d",
   "metadata": {},
   "source": [
    "Sử dụng ToTensor() của thư viện torchvision để convert pixel từ thang độ xám 256 về dạng chuẩn [0;1]"
   ]
  },
  {
   "cell_type": "code",
   "execution_count": 42,
   "id": "72ccc380-05c0-4bf2-8171-9aaf5837bdb3",
   "metadata": {},
   "outputs": [],
   "source": [
    "from torchvision import transforms\n",
    "\n",
    "def mnist_to_tensor(samples):\n",
    "    t = transforms.ToTensor()\n",
    "    samples[\"image\"] = [t(image) for image in samples[\"image\"]]\n",
    "    return samples\n",
    "\n",
    "mnist = mnist.with_transform(mnist_to_tensor)\n",
    "mnist[\"train\"] = mnist[\"train\"].shuffle(seed=1010)"
   ]
  },
  {
   "cell_type": "code",
   "execution_count": 43,
   "id": "86e027a4-0326-4e9d-81dc-c61b36685e5e",
   "metadata": {},
   "outputs": [
    {
     "data": {
      "text/plain": [
       "torch.Size([1, 28, 28])"
      ]
     },
     "execution_count": 43,
     "metadata": {},
     "output_type": "execute_result"
    }
   ],
   "source": [
    "mnist[\"train\"][\"image\"][0].shape"
   ]
  },
  {
   "cell_type": "code",
   "execution_count": 44,
   "id": "d8ef0f48-7896-4d49-890c-2701a6de214e",
   "metadata": {},
   "outputs": [],
   "source": [
    "from torch.utils.data import DataLoader"
   ]
  },
  {
   "cell_type": "code",
   "execution_count": 45,
   "id": "636e4900-ed9a-4f67-bb70-fc7d719e2c39",
   "metadata": {},
   "outputs": [],
   "source": [
    "bs = 64\n",
    "train_dataloader = DataLoader(mnist[\"train\"][\"image\"], batch_size=bs)"
   ]
  },
  {
   "cell_type": "markdown",
   "id": "68dc6a44-92fa-49c0-915e-e3bea2d08b0d",
   "metadata": {},
   "source": [
    "Các lớp tích chập (convolutional layers) là tập hợp các bộ lọc 2D nhỏ, được áp dụng lặp đi lặp lại lên nhiều vùng khác nhau của ảnh đầu vào. Những bộ lọc này có thể phát hiện các mẫu như đường thẳng hoặc vùng hình tròn. Truyền thống trước đây, các bộ lọc 2D thường được sử dụng trong xử lý ảnh số, nơi chúng được thiết kế thủ công một cách cẩn thận để khớp với những đặc trưng cụ thể trong ảnh đầu vào.\n",
    "\n",
    "Điểm khác biệt chính với các lớp tích chập là các bộ lọc không được chuẩn bị sẵn từ trước — thay vào đó, chúng được các lớp tích chập tự học trong quá trình huấn luyện mạng. Bằng cách xếp chồng nhiều lớp tích chập, mô hình có thể dần dần trích xuất ra các đặc trưng trừu tượng hơn từ ảnh đầu vào, học ra những bộ lọc giúp giải quyết bài toán một cách hiệu quả.\n",
    "\n",
    "Có một lĩnh vực rất thú vị về giải thích và diễn giải mô hình, nhằm trực quan hóa và hiểu cách thức hoạt động bên trong của các lớp mạng. Thực tế đã cho thấy rằng các bộ lọc mà mạng nơ-ron học được đôi khi lại giống với các bộ lọc kinh điển do con người thiết kế thủ công để phát hiện cạnh, màu sắc, hoặc đường viền."
   ]
  },
  {
   "cell_type": "code",
   "execution_count": 46,
   "id": "fb157c17-3f19-4e13-aee5-d1d0583914c0",
   "metadata": {},
   "outputs": [],
   "source": [
    "from torch import nn"
   ]
  },
  {
   "cell_type": "code",
   "execution_count": 47,
   "id": "490b7d9a-bf7a-4236-b354-78c4095781a2",
   "metadata": {},
   "outputs": [],
   "source": [
    "def conv_block(in_channels, out_channels, kernel_size=4, stride=2, padding=1):\n",
    "    return nn.Sequential(\n",
    "        nn.Conv2d(\n",
    "            in_channels,\n",
    "            out_channels,\n",
    "            kernel_size=kernel_size,\n",
    "            stride=stride,\n",
    "            padding=padding,\n",
    "        ),\n",
    "        nn.BatchNorm2d(out_channels),\n",
    "        nn.ReLU(),\n",
    "    )"
   ]
  },
  {
   "attachments": {
    "6fb6a919-c4ff-4242-8aa2-a15ef8560219.png": {
     "image/png": "[encoded data removed]"
    }
   },
   "cell_type": "markdown",
   "id": "041e7846-bfc2-439f-8544-3937be3457fe",
   "metadata": {},
   "source": [
    "![image.png](attachment:6fb6a919-c4ff-4242-8aa2-a15ef8560219.png)"
   ]
  },
  {
   "cell_type": "code",
   "execution_count": 48,
   "id": "a461d3d9-78f8-4c26-a92f-748d63cf677f",
   "metadata": {},
   "outputs": [],
   "source": [
    "class Encoder(nn.Module):\n",
    "    def __init__(self, in_channels):\n",
    "        super().__init__()\n",
    "        self.conv1 = conv_block(in_channels, 128)\n",
    "        self.conv2 = conv_block(128, 256)\n",
    "        self.conv3 = conv_block(256, 512)\n",
    "        self.conv4 = conv_block(512, 1024) #(bs, 1024, 1, 1)\n",
    "        self.linear = nn.Linear(1024, 16)\n",
    "\n",
    "    def forward(self, x):\n",
    "        x = self.conv1(x)\n",
    "        x = self.conv2(x)\n",
    "        x = self.conv3(x)\n",
    "        x = self.conv4(x)\n",
    "        x = self.linear(x.flatten(start_dim=1))\n",
    "        return x"
   ]
  },
  {
   "cell_type": "code",
   "execution_count": 49,
   "id": "014983f8-77af-4458-b535-1b90094826a7",
   "metadata": {},
   "outputs": [
    {
     "data": {
      "text/plain": [
       "torch.Size([1, 16])"
      ]
     },
     "execution_count": 49,
     "metadata": {},
     "output_type": "execute_result"
    }
   ],
   "source": [
    "in_channels = 1\n",
    "x = mnist[\"train\"][\"image\"][0][None, :]\n",
    "encoder = Encoder(in_channels).eval()\n",
    "encoded = encoder(x)\n",
    "encoded.shape"
   ]
  },
  {
   "cell_type": "code",
   "execution_count": 50,
   "id": "1bcfff96-4e5f-45e9-9ebd-26c099e699a1",
   "metadata": {},
   "outputs": [
    {
     "data": {
      "text/plain": [
       "tensor([[ 0.0139, -0.0002,  0.0265,  0.0358,  0.0004, -0.0059,  0.0079, -0.0075,\n",
       "          0.0115, -0.0266,  0.0028,  0.0078, -0.0202, -0.0094,  0.0051,  0.0272]],\n",
       "       grad_fn=<AddmmBackward0>)"
      ]
     },
     "execution_count": 50,
     "metadata": {},
     "output_type": "execute_result"
    }
   ],
   "source": [
    "encoded"
   ]
  },
  {
   "cell_type": "code",
   "execution_count": 51,
   "id": "156047f7-d56d-440d-aebc-58e78ae42f18",
   "metadata": {},
   "outputs": [],
   "source": [
    "batch = next(iter(train_dataloader))"
   ]
  },
  {
   "cell_type": "code",
   "execution_count": 52,
   "id": "190be60c-de2a-4565-9198-f6f78d333df2",
   "metadata": {},
   "outputs": [
    {
     "data": {
      "text/plain": [
       "torch.Size([64, 1, 28, 28])"
      ]
     },
     "execution_count": 52,
     "metadata": {},
     "output_type": "execute_result"
    }
   ],
   "source": [
    "batch.shape"
   ]
  },
  {
   "cell_type": "code",
   "execution_count": 53,
   "id": "9629884a-cc3b-4b15-ac6d-b15464d0009b",
   "metadata": {},
   "outputs": [],
   "source": [
    "encoded = Encoder(1)(batch)"
   ]
  },
  {
   "cell_type": "code",
   "execution_count": 54,
   "id": "7877c9da-7e56-412b-9da0-29c7ff38db41",
   "metadata": {},
   "outputs": [
    {
     "data": {
      "text/plain": [
       "torch.Size([64, 16])"
      ]
     },
     "execution_count": 54,
     "metadata": {},
     "output_type": "execute_result"
    }
   ],
   "source": [
    "encoded.shape"
   ]
  },
  {
   "cell_type": "code",
   "execution_count": 55,
   "id": "70aa86d4-64ce-431f-ab71-0833518bc2c0",
   "metadata": {},
   "outputs": [],
   "source": [
    "def conv_transpose_block(\n",
    "    in_channels,\n",
    "    out_channels,\n",
    "    kernel_size=3,\n",
    "    stride=2,\n",
    "    padding=1,\n",
    "    output_padding=0,\n",
    "    with_act=True,\n",
    "):\n",
    "    modules = [\n",
    "        nn.ConvTranspose2d(\n",
    "            in_channels,\n",
    "            out_channels,\n",
    "            kernel_size=kernel_size,\n",
    "            stride=stride,\n",
    "            padding=padding,\n",
    "            output_padding=output_padding,\n",
    "        ),\n",
    "    ]\n",
    "    if with_act:\n",
    "        modules.append(nn.BatchNorm2d(out_channels))\n",
    "        modules.append(nn.ReLU())\n",
    "    return nn.Sequential(*modules)"
   ]
  },
  {
   "cell_type": "code",
   "execution_count": 56,
   "id": "79f446ff-6c60-476b-8518-a00b27a0f08a",
   "metadata": {},
   "outputs": [],
   "source": [
    "class Decoder(nn.Module):\n",
    "    def __init__(self, out_channels):\n",
    "        super().__init__()\n",
    "        self.linear = nn.Linear(\n",
    "            16, 1024 * 4 * 4\n",
    "        )\n",
    "        self.t_conv1 = conv_transpose_block(1024, 512)\n",
    "        self.t_conv2 = conv_transpose_block(512, 256, output_padding=1)\n",
    "        self.t_conv3 = conv_transpose_block(256, out_channels, output_padding=1)\n",
    "    def forward(self, x):\n",
    "        bs = x.shape[0]\n",
    "        x = self.linear(x) # (bs, 1024*4*4)\n",
    "        x = x.reshape((bs, 1024, 4, 4)) # (bs, 1024, 4, 4)\n",
    "        x = self.t_conv1(x) # (bs, 512, 7, 7)\n",
    "        x = self.t_conv2(x) # (bs, 256, 14, 14)\n",
    "        x = self.t_conv3(x) # (bs, 1, 28, 28)\n",
    "        return x"
   ]
  },
  {
   "cell_type": "code",
   "execution_count": 57,
   "id": "f2668cf6-63e5-4676-b52c-3694a5670a3f",
   "metadata": {},
   "outputs": [],
   "source": [
    "decoded_batch = Decoder(x.shape[0])(encoded)"
   ]
  },
  {
   "cell_type": "code",
   "execution_count": 58,
   "id": "544deecd-3666-489e-9141-00ba184d4a0f",
   "metadata": {},
   "outputs": [
    {
     "data": {
      "text/plain": [
       "torch.Size([64, 1, 28, 28])"
      ]
     },
     "execution_count": 58,
     "metadata": {},
     "output_type": "execute_result"
    }
   ],
   "source": [
    "decoded_batch.shape"
   ]
  },
  {
   "cell_type": "code",
   "execution_count": 59,
   "id": "9dcad26c-7cfc-406b-93c7-c74776d04a13",
   "metadata": {},
   "outputs": [],
   "source": [
    "class AutoEncoder(nn.Module):\n",
    "    def __init__(self, in_channels):\n",
    "        super().__init__()\n",
    "        self.encoder = Encoder(in_channels)\n",
    "        self.decoder = Decoder(in_channels)\n",
    "\n",
    "    def encode(self, x):\n",
    "        return self.encoder(x)\n",
    "\n",
    "    def decode(self, x):\n",
    "        return self.decoder(x)\n",
    "\n",
    "    def forward(self, x):\n",
    "        return self.decode(self.encode(x))\n",
    "        "
   ]
  },
  {
   "cell_type": "code",
   "execution_count": 60,
   "id": "312c8881-70a3-47b0-829c-c266443a5bad",
   "metadata": {},
   "outputs": [],
   "source": [
    "model = AutoEncoder(1)"
   ]
  },
  {
   "cell_type": "code",
   "execution_count": 61,
   "id": "ee31da21-662f-4c99-beab-bc188c7995ef",
   "metadata": {},
   "outputs": [],
   "source": [
    "import torchsummary"
   ]
  },
  {
   "cell_type": "code",
   "execution_count": 62,
   "id": "d45d7426-fc64-47e9-85ad-55b6475e27d5",
   "metadata": {},
   "outputs": [
    {
     "name": "stdout",
     "output_type": "stream",
     "text": [
      "----------------------------------------------------------------\n",
      "        Layer (type)               Output Shape         Param #\n",
      "================================================================\n",
      "            Conv2d-1          [-1, 128, 14, 14]           2,176\n",
      "       BatchNorm2d-2          [-1, 128, 14, 14]             256\n",
      "              ReLU-3          [-1, 128, 14, 14]               0\n",
      "            Conv2d-4            [-1, 256, 7, 7]         524,544\n",
      "       BatchNorm2d-5            [-1, 256, 7, 7]             512\n",
      "              ReLU-6            [-1, 256, 7, 7]               0\n",
      "            Conv2d-7            [-1, 512, 3, 3]       2,097,664\n",
      "       BatchNorm2d-8            [-1, 512, 3, 3]           1,024\n",
      "              ReLU-9            [-1, 512, 3, 3]               0\n",
      "           Conv2d-10           [-1, 1024, 1, 1]       8,389,632\n",
      "      BatchNorm2d-11           [-1, 1024, 1, 1]           2,048\n",
      "             ReLU-12           [-1, 1024, 1, 1]               0\n",
      "           Linear-13                   [-1, 16]          16,400\n",
      "          Encoder-14                   [-1, 16]               0\n",
      "           Linear-15                [-1, 16384]         278,528\n",
      "  ConvTranspose2d-16            [-1, 512, 7, 7]       4,719,104\n",
      "      BatchNorm2d-17            [-1, 512, 7, 7]           1,024\n",
      "             ReLU-18            [-1, 512, 7, 7]               0\n",
      "  ConvTranspose2d-19          [-1, 256, 14, 14]       1,179,904\n",
      "      BatchNorm2d-20          [-1, 256, 14, 14]             512\n",
      "             ReLU-21          [-1, 256, 14, 14]               0\n",
      "  ConvTranspose2d-22            [-1, 1, 28, 28]           2,305\n",
      "      BatchNorm2d-23            [-1, 1, 28, 28]               2\n",
      "             ReLU-24            [-1, 1, 28, 28]               0\n",
      "          Decoder-25            [-1, 1, 28, 28]               0\n",
      "================================================================\n",
      "Total params: 17,215,635\n",
      "Trainable params: 17,215,635\n",
      "Non-trainable params: 0\n",
      "----------------------------------------------------------------\n",
      "Input size (MB): 0.00\n",
      "Forward/backward pass size (MB): 2.86\n",
      "Params size (MB): 65.67\n",
      "Estimated Total Size (MB): 68.54\n",
      "----------------------------------------------------------------\n"
     ]
    }
   ],
   "source": [
    "torchsummary.summary(model, input_size=(1, 28, 28), device=\"cpu\")"
   ]
  },
  {
   "cell_type": "code",
   "execution_count": 63,
   "id": "2a7f17ac-81fd-44e3-805b-ed1ee1e042e7",
   "metadata": {},
   "outputs": [],
   "source": [
    "import torch\n",
    "from tqdm.notebook import tqdm, trange\n",
    "from torch.nn import functional as F"
   ]
  },
  {
   "cell_type": "code",
   "execution_count": 73,
   "id": "39796971-578f-44fa-b564-0024810c6532",
   "metadata": {},
   "outputs": [
    {
     "name": "stdout",
     "output_type": "stream",
     "text": [
      "cuda\n"
     ]
    }
   ],
   "source": [
    "device = torch.device(\"cuda\" if torch.cuda.is_available() else \"cpu\")\n",
    "print(device)"
   ]
  },
  {
   "cell_type": "code",
   "execution_count": 65,
   "id": "0b0b5862-50b3-4a86-8838-bb3918ca820a",
   "metadata": {},
   "outputs": [
    {
     "data": {
      "application/vnd.jupyter.widget-view+json": {
       "model_id": "748ac90f3e264a9eaccf01ac2d2a83ac",
       "version_major": 2,
       "version_minor": 0
      },
      "text/plain": [
       "Training:   0%|          | 0/10 [00:00<?, ?it/s]"
      ]
     },
     "metadata": {},
     "output_type": "display_data"
    },
    {
     "data": {
      "application/vnd.jupyter.widget-view+json": {
       "model_id": "2da1e5e768284a53b044d38138d99413",
       "version_major": 2,
       "version_minor": 0
      },
      "text/plain": [
       "  0%|          | 0/938 [00:00<?, ?it/s]"
      ]
     },
     "metadata": {},
     "output_type": "display_data"
    },
    {
     "data": {
      "application/vnd.jupyter.widget-view+json": {
       "model_id": "e46cb09798d0477f943337c2eec03a48",
       "version_major": 2,
       "version_minor": 0
      },
      "text/plain": [
       "  0%|          | 0/938 [00:00<?, ?it/s]"
      ]
     },
     "metadata": {},
     "output_type": "display_data"
    },
    {
     "data": {
      "application/vnd.jupyter.widget-view+json": {
       "model_id": "28f260ef82a14b889d1fb55220d6f194",
       "version_major": 2,
       "version_minor": 0
      },
      "text/plain": [
       "  0%|          | 0/938 [00:00<?, ?it/s]"
      ]
     },
     "metadata": {},
     "output_type": "display_data"
    },
    {
     "data": {
      "application/vnd.jupyter.widget-view+json": {
       "model_id": "8009cb9c6e80479eb296aab60031b148",
       "version_major": 2,
       "version_minor": 0
      },
      "text/plain": [
       "  0%|          | 0/938 [00:00<?, ?it/s]"
      ]
     },
     "metadata": {},
     "output_type": "display_data"
    },
    {
     "data": {
      "application/vnd.jupyter.widget-view+json": {
       "model_id": "80f04e213c7446799fa765f8ddd7848f",
       "version_major": 2,
       "version_minor": 0
      },
      "text/plain": [
       "  0%|          | 0/938 [00:00<?, ?it/s]"
      ]
     },
     "metadata": {},
     "output_type": "display_data"
    },
    {
     "data": {
      "application/vnd.jupyter.widget-view+json": {
       "model_id": "e9865b0697264138ad64e946f780e2b6",
       "version_major": 2,
       "version_minor": 0
      },
      "text/plain": [
       "  0%|          | 0/938 [00:00<?, ?it/s]"
      ]
     },
     "metadata": {},
     "output_type": "display_data"
    },
    {
     "data": {
      "application/vnd.jupyter.widget-view+json": {
       "model_id": "b96eb47681cc4fc3a5c7b3d1942efddb",
       "version_major": 2,
       "version_minor": 0
      },
      "text/plain": [
       "  0%|          | 0/938 [00:00<?, ?it/s]"
      ]
     },
     "metadata": {},
     "output_type": "display_data"
    },
    {
     "data": {
      "application/vnd.jupyter.widget-view+json": {
       "model_id": "855a22553b9c4652a46d3910d65fb81c",
       "version_major": 2,
       "version_minor": 0
      },
      "text/plain": [
       "  0%|          | 0/938 [00:00<?, ?it/s]"
      ]
     },
     "metadata": {},
     "output_type": "display_data"
    },
    {
     "data": {
      "application/vnd.jupyter.widget-view+json": {
       "model_id": "19a19e4bffbe4225953b2367a6429b4d",
       "version_major": 2,
       "version_minor": 0
      },
      "text/plain": [
       "  0%|          | 0/938 [00:00<?, ?it/s]"
      ]
     },
     "metadata": {},
     "output_type": "display_data"
    },
    {
     "data": {
      "application/vnd.jupyter.widget-view+json": {
       "model_id": "b3b3d4fbf5294c699b33558cd6e8e380",
       "version_major": 2,
       "version_minor": 0
      },
      "text/plain": [
       "  0%|          | 0/938 [00:00<?, ?it/s]"
      ]
     },
     "metadata": {},
     "output_type": "display_data"
    }
   ],
   "source": [
    "num_epochs = 10\n",
    "lr = 1e-4\n",
    "\n",
    "model = model.to(device)\n",
    "optimizer = torch.optim.AdamW(model.parameters(), lr=lr, eps=1e-5)\n",
    "\n",
    "losses = []\n",
    "for _ in (progress := trange(num_epochs, desc=\"Training\")):\n",
    "    for _, batch in (\n",
    "        inner := tqdm(enumerate(train_dataloader), total=len(train_dataloader))\n",
    "    ):\n",
    "        batch = batch.to(device)\n",
    "        preds = model(batch)\n",
    "        loss = F.mse_loss(preds, batch)\n",
    "        inner.set_postfix(loss=f\"{loss.cpu().item():.3f}\")\n",
    "        losses.append(loss.item())\n",
    "\n",
    "        loss.backward()\n",
    "        optimizer.step()\n",
    "        optimizer.zero_grad()\n",
    "    progress.set_postfix(loss=f\"{loss.cpu().item():.3f}\", lr=f\"{lr:.0e}\")"
   ]
  },
  {
   "cell_type": "code",
   "execution_count": 66,
   "id": "59baa31f-df4c-4ca4-916e-57ba0955c956",
   "metadata": {},
   "outputs": [
    {
     "data": {
      "image/png": "[encoded data removed]",
      "text/plain": [
       "<Figure size 640x480 with 1 Axes>"
      ]
     },
     "metadata": {},
     "output_type": "display_data"
    }
   ],
   "source": [
    "plt.plot(losses)\n",
    "plt.xlabel(\"Step\")\n",
    "plt.ylabel(\"Loss\")\n",
    "plt.title(\"AutoEncoder – Training Loss Curve\")\n",
    "plt.show()"
   ]
  },
  {
   "cell_type": "markdown",
   "id": "db7687f7-0be2-4bf9-a7ce-4adb5967880f",
   "metadata": {},
   "source": [
    "Test"
   ]
  },
  {
   "cell_type": "code",
   "execution_count": 67,
   "id": "c861ab0f-34dd-48c1-8fff-105fd98d0346",
   "metadata": {},
   "outputs": [],
   "source": [
    "eval_bs = 16\n",
    "eval_dataloader = DataLoader(mnist[\"test\"][\"image\"], batch_size=eval_bs)"
   ]
  },
  {
   "cell_type": "code",
   "execution_count": 71,
   "id": "afd7fa3e-53e3-44e7-a825-32c27c541ab7",
   "metadata": {},
   "outputs": [],
   "source": [
    "model.eval()\n",
    "with torch.inference_mode():\n",
    "    eval_batch = next(iter(eval_dataloader))\n",
    "    predicted = model(eval_batch.to(device)).cpu()"
   ]
  },
  {
   "cell_type": "code",
   "execution_count": 74,
   "id": "efc60d51-7067-4527-9d53-d8fa4c16f0e4",
   "metadata": {},
   "outputs": [],
   "source": [
    "batch_vs_preds = torch.cat((eval_batch, predicted))"
   ]
  },
  {
   "cell_type": "code",
   "execution_count": 76,
   "id": "86942828-8709-4dfb-a419-0c6ad633698b",
   "metadata": {},
   "outputs": [],
   "source": [
    "images = batch_vs_preds.numpy()  # chuyển từ tensor sang numpy"
   ]
  },
  {
   "cell_type": "code",
   "execution_count": 78,
   "id": "768570dd-dd27-44a2-a012-a1bfab29c8e4",
   "metadata": {},
   "outputs": [
    {
     "data": {
      "image/png": "[encoded data removed]",
      "text/plain": [
       "<Figure size 2400x300 with 32 Axes>"
      ]
     },
     "metadata": {},
     "output_type": "display_data"
    }
   ],
   "source": [
    "bs = eval_bs\n",
    "fig, axes = plt.subplots(2, bs, figsize=(bs*1.5, 3))\n",
    "\n",
    "for i in range(bs):\n",
    "    # ảnh gốc\n",
    "    axes[0, i].imshow(batch_vs_preds[i, 0], cmap=\"gray_r\")\n",
    "    axes[0, i].axis(\"off\")\n",
    "    \n",
    "    # ảnh tái tạo\n",
    "    axes[1, i].imshow(batch_vs_preds[i + bs, 0], cmap=\"gray_r\")\n",
    "    axes[1, i].axis(\"off\")\n",
    "\n",
    "plt.show()"
   ]
  },
  {
   "cell_type": "code",
   "execution_count": null,
   "id": "f82867b4-b864-447d-9ab8-9a78d61e99f9",
   "metadata": {},
   "outputs": [],
   "source": []
  }
 ],
 "metadata": {
  "kernelspec": {
   "display_name": "My Venv",
   "language": "python",
   "name": "myenv"
  },
  "language_info": {
   "codemirror_mode": {
    "name": "ipython",
    "version": 3
   },
   "file_extension": ".py",
   "mimetype": "text/x-python",
   "name": "python",
   "nbconvert_exporter": "python",
   "pygments_lexer": "ipython3",
   "version": "3.12.7"
  }
 },
 "nbformat": 4,
 "nbformat_minor": 5
}
